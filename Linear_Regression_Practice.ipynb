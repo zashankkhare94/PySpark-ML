{
 "cells": [
  {
   "cell_type": "markdown",
   "id": "c5292d2b",
   "metadata": {},
   "source": [
    "# Author:\n",
    "## Zashank Khare"
   ]
  },
  {
   "cell_type": "raw",
   "id": "eb547c73",
   "metadata": {},
   "source": [
    "This is a practice notebook for learning how to implement Linear Regression model using PySpark. Here we have a datesets consists of 7 independent variables & 1 target variable. Using Linear Regression we have to predict the Yearly Amount Spent."
   ]
  },
  {
   "cell_type": "markdown",
   "id": "ad034454",
   "metadata": {},
   "source": [
    "#### Creating Spark Session"
   ]
  },
  {
   "cell_type": "code",
   "execution_count": 1,
   "id": "6e0726ff",
   "metadata": {},
   "outputs": [],
   "source": [
    "from pyspark.sql import SparkSession\n",
    "spark = SparkSession.builder.appName('Linear_Regression').getOrCreate()"
   ]
  },
  {
   "cell_type": "markdown",
   "id": "51f79393",
   "metadata": {},
   "source": [
    "#### Importing important libraries"
   ]
  },
  {
   "cell_type": "code",
   "execution_count": 2,
   "id": "c8fed215",
   "metadata": {},
   "outputs": [],
   "source": [
    "import pandas as pd\n",
    "import numpy as np\n",
    "import warnings\n",
    "warnings.simplefilter('ignore')\n",
    "\n",
    "from pyspark.ml.linalg import Vectors     \n",
    "# Vectors class is used to represent dense and sparse vectors in Spark.\n",
    "\n",
    "from pyspark.ml.feature import VectorAssembler  \n",
    "# It is used in Spark ML pipelines, where it helps prepare data for ML algorithms that expect a single vector column as input.\n",
    "\n",
    "from pyspark.ml.regression import LinearRegression"
   ]
  },
  {
   "cell_type": "markdown",
   "id": "8d74319d",
   "metadata": {},
   "source": [
    "#### Loading datasets"
   ]
  },
  {
   "cell_type": "code",
   "execution_count": 3,
   "id": "1694c208",
   "metadata": {},
   "outputs": [],
   "source": [
    "df = spark.read.csv('Ecommerce_Customers.csv', header = True, inferSchema = True)"
   ]
  },
  {
   "cell_type": "markdown",
   "id": "a0657adb",
   "metadata": {},
   "source": [
    "#### First five rows of df"
   ]
  },
  {
   "cell_type": "code",
   "execution_count": 4,
   "id": "e114cc62",
   "metadata": {},
   "outputs": [
    {
     "name": "stdout",
     "output_type": "stream",
     "text": [
      "+--------------------+--------------------+----------------+------------------+------------------+------------------+--------------------+-------------------+\n",
      "|               Email|             Address|          Avatar|Avg Session Length|       Time on App|   Time on Website|Length of Membership|Yearly Amount Spent|\n",
      "+--------------------+--------------------+----------------+------------------+------------------+------------------+--------------------+-------------------+\n",
      "|mstephenson@ferna...|835 Frank TunnelW...|          Violet| 34.49726772511229| 12.65565114916675| 39.57766801952616|  4.0826206329529615|  587.9510539684005|\n",
      "|   hduke@hotmail.com|4547 Archer Commo...|       DarkGreen| 31.92627202636016|11.109460728682564|37.268958868297744|    2.66403418213262|  392.2049334443264|\n",
      "|    pallen@yahoo.com|24645 Valerie Uni...|          Bisque|33.000914755642675|11.330278057777512|37.110597442120856|   4.104543202376424| 487.54750486747207|\n",
      "|riverarebecca@gma...|1414 David Throug...|     SaddleBrown| 34.30555662975554|13.717513665142507| 36.72128267790313|   3.120178782748092|  581.8523440352177|\n",
      "|mstephens@davidso...|14023 Rodriguez P...|MediumAquaMarine| 33.33067252364639|12.795188551078114| 37.53665330059473|   4.446308318351434|  599.4060920457634|\n",
      "+--------------------+--------------------+----------------+------------------+------------------+------------------+--------------------+-------------------+\n",
      "only showing top 5 rows\n",
      "\n"
     ]
    }
   ],
   "source": [
    "df.show(5)"
   ]
  },
  {
   "cell_type": "code",
   "execution_count": 5,
   "id": "a0661dbc",
   "metadata": {},
   "outputs": [
    {
     "name": "stdout",
     "output_type": "stream",
     "text": [
      "mstephenson@fernandez.com\n",
      "835 Frank TunnelWrightmouth, MI 82180-9605\n",
      "Violet\n",
      "34.49726772511229\n",
      "12.65565114916675\n",
      "39.57766801952616\n",
      "4.0826206329529615\n",
      "587.9510539684005\n"
     ]
    }
   ],
   "source": [
    "for x in df.head(1)[0]:\n",
    "    print(x)"
   ]
  },
  {
   "cell_type": "markdown",
   "id": "27c71f1f",
   "metadata": {},
   "source": [
    "#### Schema of df"
   ]
  },
  {
   "cell_type": "code",
   "execution_count": 6,
   "id": "8439db0f",
   "metadata": {},
   "outputs": [
    {
     "name": "stdout",
     "output_type": "stream",
     "text": [
      "root\n",
      " |-- Email: string (nullable = true)\n",
      " |-- Address: string (nullable = true)\n",
      " |-- Avatar: string (nullable = true)\n",
      " |-- Avg Session Length: double (nullable = true)\n",
      " |-- Time on App: double (nullable = true)\n",
      " |-- Time on Website: double (nullable = true)\n",
      " |-- Length of Membership: double (nullable = true)\n",
      " |-- Yearly Amount Spent: double (nullable = true)\n",
      "\n"
     ]
    }
   ],
   "source": [
    "df.printSchema()"
   ]
  },
  {
   "cell_type": "raw",
   "id": "e5572116",
   "metadata": {},
   "source": [
    "# Here 'Yearly Amount Spent' is the target variable."
   ]
  },
  {
   "cell_type": "code",
   "execution_count": 7,
   "id": "412330a0",
   "metadata": {},
   "outputs": [
    {
     "name": "stdout",
     "output_type": "stream",
     "text": [
      "No. of records present in the df:  500\n"
     ]
    }
   ],
   "source": [
    "print('No. of records present in the df: ',df.count())"
   ]
  },
  {
   "cell_type": "markdown",
   "id": "c1008b32",
   "metadata": {},
   "source": [
    "#### Descriptive Statistics"
   ]
  },
  {
   "cell_type": "code",
   "execution_count": 8,
   "id": "16ceb09f",
   "metadata": {},
   "outputs": [
    {
     "name": "stdout",
     "output_type": "stream",
     "text": [
      "+-------+-----+-------+------+------------------+-----------+---------------+--------------------+-------------------+\n",
      "|summary|Email|Address|Avatar|Avg Session Length|Time on App|Time on Website|Length of Membership|Yearly Amount Spent|\n",
      "+-------+-----+-------+------+------------------+-----------+---------------+--------------------+-------------------+\n",
      "|  count|500.0|  500.0| 500.0|             500.0|      500.0|          500.0|               500.0|              500.0|\n",
      "|   mean| null|   null|  null|             33.05|      12.05|          37.06|                3.53|             499.31|\n",
      "| stddev| null|   null|  null|              0.99|       0.99|           1.01|                 1.0|              79.31|\n",
      "|    min| null|   null|  null|             29.53|       8.51|          33.91|                0.27|             256.67|\n",
      "|    25%| null|   null|  null|             32.34|      11.39|          36.34|                2.93|             444.97|\n",
      "|    50%| null|   null|  null|             33.08|      11.98|          37.07|                3.53|             498.64|\n",
      "|    75%| null|   null|  null|             33.71|      12.75|          37.72|                4.13|             549.13|\n",
      "|    max| null|   null|  null|             36.14|      15.13|          40.01|                6.92|             765.52|\n",
      "+-------+-----+-------+------+------------------+-----------+---------------+--------------------+-------------------+\n",
      "\n"
     ]
    }
   ],
   "source": [
    "from pyspark.sql.functions import round, col\n",
    "stats = df.summary()\n",
    "stats.select(stats['summary'],*[round(stats[c],2).alias(c) for c in stats.columns if c != 'summary']).show()"
   ]
  },
  {
   "cell_type": "raw",
   "id": "023d871e",
   "metadata": {},
   "source": [
    "# The data looks good. "
   ]
  },
  {
   "cell_type": "code",
   "execution_count": 9,
   "id": "3907efba",
   "metadata": {},
   "outputs": [
    {
     "data": {
      "text/plain": [
       "500"
      ]
     },
     "execution_count": 9,
     "metadata": {},
     "output_type": "execute_result"
    }
   ],
   "source": [
    "df.distinct().count()"
   ]
  },
  {
   "cell_type": "code",
   "execution_count": 10,
   "id": "81f4d4a9",
   "metadata": {},
   "outputs": [
    {
     "data": {
      "text/plain": [
       "138"
      ]
     },
     "execution_count": 10,
     "metadata": {},
     "output_type": "execute_result"
    }
   ],
   "source": [
    "df.select('Avatar').distinct().count()"
   ]
  },
  {
   "cell_type": "code",
   "execution_count": 11,
   "id": "340840a2",
   "metadata": {},
   "outputs": [
    {
     "name": "stdout",
     "output_type": "stream",
     "text": [
      "Showing the average of all the numerical features per Avatar:\n",
      "+------------+------------------+\n",
      "|      Avatar|Avg Session Length|\n",
      "+------------+------------------+\n",
      "|   GoldenRod|             34.46|\n",
      "|       Azure|             34.31|\n",
      "|MidnightBlue|             34.26|\n",
      "|        Gray|             34.25|\n",
      "|   MistyRose|             34.19|\n",
      "+------------+------------------+\n",
      "only showing top 5 rows\n",
      "\n",
      "None\n",
      "+-------------+-----------+\n",
      "|       Avatar|Time on App|\n",
      "+-------------+-----------+\n",
      "|        Coral|      13.33|\n",
      "|DarkSlateGray|      13.33|\n",
      "|         Snow|      13.25|\n",
      "|   Chartreuse|      13.23|\n",
      "|         Peru|      13.22|\n",
      "+-------------+-----------+\n",
      "only showing top 5 rows\n",
      "\n",
      "None\n",
      "+-----------+---------------+\n",
      "|     Avatar|Time on Website|\n",
      "+-----------+---------------+\n",
      "|    SkyBlue|          39.03|\n",
      "|      Black|          38.56|\n",
      "|NavajoWhite|          38.44|\n",
      "| DarkSalmon|          38.31|\n",
      "|ForestGreen|           38.3|\n",
      "+-----------+---------------+\n",
      "only showing top 5 rows\n",
      "\n",
      "None\n",
      "+--------------+--------------------+\n",
      "|        Avatar|Length of Membership|\n",
      "+--------------+--------------------+\n",
      "|CornflowerBlue|                5.39|\n",
      "|      DarkGray|                5.14|\n",
      "|         Coral|                5.05|\n",
      "|         Ivory|                4.98|\n",
      "|        Yellow|                4.75|\n",
      "+--------------+--------------------+\n",
      "only showing top 5 rows\n",
      "\n",
      "None\n",
      "+-------------+-------------------+\n",
      "|       Avatar|Yearly Amount Spent|\n",
      "+-------------+-------------------+\n",
      "|     DarkGray|             633.13|\n",
      "|        Coral|             616.66|\n",
      "|   LightCoral|             601.82|\n",
      "|DarkSlateGray|             593.04|\n",
      "|        Ivory|             581.24|\n",
      "+-------------+-------------------+\n",
      "only showing top 5 rows\n",
      "\n",
      "None\n"
     ]
    }
   ],
   "source": [
    "print('Showing the average of all the numerical features per Avatar:')\n",
    "for c in ['Avg Session Length','Time on App','Time on Website','Length of Membership','Yearly Amount Spent']:\n",
    "    var = ''\n",
    "    var = 'avg'+'('+ c + ')'\n",
    "    view1 = df.select('Avatar',col(c)).groupBy('Avatar').mean()\n",
    "    view1 = view1.select('Avatar',round(col(var),2).alias(c)).orderBy(c, ascending = False)\n",
    "    print(view1.show(5))"
   ]
  },
  {
   "cell_type": "raw",
   "id": "ec1408c2",
   "metadata": {},
   "source": [
    "Here, we found out that \n",
    "    -- GoldenRod avatar has the highest mean average session length\n",
    "    -- Coral has the highest mean time on app\n",
    "    -- SkyBlue has the highest mean time on website\n",
    "    -- CornflowerBlue avatar has the highest length of membership\n",
    "    -- DarkGray avatar has the highest yearly amount spent"
   ]
  },
  {
   "cell_type": "markdown",
   "id": "335743f0",
   "metadata": {},
   "source": [
    "#### Model and Fit"
   ]
  },
  {
   "cell_type": "code",
   "execution_count": 12,
   "id": "cb89049f",
   "metadata": {},
   "outputs": [
    {
     "data": {
      "text/plain": [
       "['Email',\n",
       " 'Address',\n",
       " 'Avatar',\n",
       " 'Avg Session Length',\n",
       " 'Time on App',\n",
       " 'Time on Website',\n",
       " 'Length of Membership',\n",
       " 'Yearly Amount Spent']"
      ]
     },
     "execution_count": 12,
     "metadata": {},
     "output_type": "execute_result"
    }
   ],
   "source": [
    "df.columns"
   ]
  },
  {
   "cell_type": "code",
   "execution_count": 13,
   "id": "321d7d61",
   "metadata": {},
   "outputs": [],
   "source": [
    "Cols = ['Avg Session Length','Time on App','Time on Website','Length of Membership']"
   ]
  },
  {
   "cell_type": "code",
   "execution_count": 14,
   "id": "7475b19f",
   "metadata": {},
   "outputs": [],
   "source": [
    "assembler = VectorAssembler(inputCols = Cols, outputCol='features')\n",
    "assem_data = assembler.transform(df)"
   ]
  },
  {
   "cell_type": "code",
   "execution_count": 15,
   "id": "6b3a0bb0",
   "metadata": {},
   "outputs": [
    {
     "data": {
      "text/plain": [
       "Row(Email='mstephenson@fernandez.com', Address='835 Frank TunnelWrightmouth, MI 82180-9605', Avatar='Violet', Avg Session Length=34.49726772511229, Time on App=12.65565114916675, Time on Website=39.57766801952616, Length of Membership=4.0826206329529615, Yearly Amount Spent=587.9510539684005, features=DenseVector([34.4973, 12.6557, 39.5777, 4.0826]))"
      ]
     },
     "execution_count": 15,
     "metadata": {},
     "output_type": "execute_result"
    }
   ],
   "source": [
    "assem_data.head()"
   ]
  },
  {
   "cell_type": "code",
   "execution_count": 16,
   "id": "59455e4b",
   "metadata": {},
   "outputs": [],
   "source": [
    "final_data = assem_data.select('features','Yearly Amount Spent')"
   ]
  },
  {
   "cell_type": "code",
   "execution_count": 17,
   "id": "4294c3fc",
   "metadata": {},
   "outputs": [
    {
     "name": "stdout",
     "output_type": "stream",
     "text": [
      "+--------------------+-------------------+\n",
      "|            features|Yearly Amount Spent|\n",
      "+--------------------+-------------------+\n",
      "|[34.4972677251122...|  587.9510539684005|\n",
      "|[31.9262720263601...|  392.2049334443264|\n",
      "|[33.0009147556426...| 487.54750486747207|\n",
      "|[34.3055566297555...|  581.8523440352177|\n",
      "|[33.3306725236463...|  599.4060920457634|\n",
      "|[33.8710378793419...|   637.102447915074|\n",
      "|[32.0215955013870...|  521.5721747578274|\n",
      "|[32.7391429383803...|  549.9041461052942|\n",
      "|[33.9877728956856...|  570.2004089636196|\n",
      "|[31.9365486184489...|  427.1993848953282|\n",
      "|[33.9925727749537...|  492.6060127179966|\n",
      "|[33.8793608248049...|  522.3374046069357|\n",
      "|[29.5324289670579...|  408.6403510726275|\n",
      "|[33.1903340437226...|  573.4158673313865|\n",
      "|[32.3879758531538...|  470.4527333009554|\n",
      "|[30.7377203726281...|  461.7807421962299|\n",
      "|[32.1253868972878...| 457.84769594494855|\n",
      "|[32.3388993230671...| 407.70454754954415|\n",
      "|[32.1878120459321...|  452.3156754800354|\n",
      "|[32.6178560628234...|   605.061038804892|\n",
      "+--------------------+-------------------+\n",
      "only showing top 20 rows\n",
      "\n"
     ]
    }
   ],
   "source": [
    "final_data.show()"
   ]
  },
  {
   "cell_type": "code",
   "execution_count": 18,
   "id": "90746323",
   "metadata": {},
   "outputs": [],
   "source": [
    "train, validation = final_data.randomSplit([.8,.2])"
   ]
  },
  {
   "cell_type": "code",
   "execution_count": 19,
   "id": "7fbefe2b",
   "metadata": {},
   "outputs": [
    {
     "name": "stdout",
     "output_type": "stream",
     "text": [
      "+-------+-------------------+\n",
      "|summary|Yearly Amount Spent|\n",
      "+-------+-------------------+\n",
      "|  count|                391|\n",
      "|   mean| 502.22364911796933|\n",
      "| stddev|  77.09618916281244|\n",
      "|    min|  275.9184206503857|\n",
      "|    25%| 447.18764430541853|\n",
      "|    50%|   502.132789227254|\n",
      "|    75%|  549.9041461052942|\n",
      "|    max|  765.5184619388373|\n",
      "+-------+-------------------+\n",
      "\n"
     ]
    }
   ],
   "source": [
    "train.summary().show()"
   ]
  },
  {
   "cell_type": "code",
   "execution_count": 20,
   "id": "d334ebf5",
   "metadata": {},
   "outputs": [
    {
     "name": "stdout",
     "output_type": "stream",
     "text": [
      "+-------+-------------------+\n",
      "|summary|Yearly Amount Spent|\n",
      "+-------+-------------------+\n",
      "|  count|                109|\n",
      "|   mean| 488.87681031348075|\n",
      "| stddev|   86.3804883095363|\n",
      "|    min| 256.67058229005585|\n",
      "|    25%| 438.30370784642975|\n",
      "|    50%|  490.6004425003995|\n",
      "|    75%|  544.4092721605869|\n",
      "|    max|  744.2218671047146|\n",
      "+-------+-------------------+\n",
      "\n"
     ]
    }
   ],
   "source": [
    "validation.summary().show()"
   ]
  },
  {
   "cell_type": "code",
   "execution_count": 21,
   "id": "89d78499",
   "metadata": {},
   "outputs": [],
   "source": [
    "Regressor = LinearRegression(labelCol= 'Yearly Amount Spent')\n",
    "model = Regressor.fit(train)"
   ]
  },
  {
   "cell_type": "code",
   "execution_count": 22,
   "id": "342532be",
   "metadata": {},
   "outputs": [],
   "source": [
    "validation_result = model.evaluate(validation)"
   ]
  },
  {
   "cell_type": "code",
   "execution_count": 23,
   "id": "2b0a041d",
   "metadata": {},
   "outputs": [
    {
     "name": "stdout",
     "output_type": "stream",
     "text": [
      "+-------------------+\n",
      "|          residuals|\n",
      "+-------------------+\n",
      "|-16.241752625208278|\n",
      "|   5.68818208308619|\n",
      "|-12.863101263217175|\n",
      "| -7.270684076394446|\n",
      "| 3.9995738077938086|\n",
      "| 4.1790169994786766|\n",
      "|-14.422936841326873|\n",
      "|  17.16052531256861|\n",
      "|  7.273956957900225|\n",
      "| -6.315049865125445|\n",
      "|-1.7902791290238156|\n",
      "|-10.031412918696674|\n",
      "|  -8.36304308710777|\n",
      "| 5.9823242973410515|\n",
      "|  5.773154072747502|\n",
      "| 18.561041411034466|\n",
      "|  5.717282946316914|\n",
      "| 1.1296002820740796|\n",
      "|-0.5812894622952172|\n",
      "|  5.770891949232521|\n",
      "+-------------------+\n",
      "only showing top 20 rows\n",
      "\n"
     ]
    }
   ],
   "source": [
    "validation_result.residuals.show()"
   ]
  },
  {
   "cell_type": "code",
   "execution_count": 24,
   "id": "f8253adf",
   "metadata": {},
   "outputs": [
    {
     "data": {
      "text/plain": [
       "9.78965779216199"
      ]
     },
     "execution_count": 24,
     "metadata": {},
     "output_type": "execute_result"
    }
   ],
   "source": [
    "validation_result.rootMeanSquaredError"
   ]
  },
  {
   "cell_type": "code",
   "execution_count": 25,
   "id": "72c4cb50",
   "metadata": {},
   "outputs": [],
   "source": [
    "# Models performs good as the RMSE value is acceptable as comparison to the mean, std of the target variable."
   ]
  },
  {
   "cell_type": "code",
   "execution_count": 26,
   "id": "2ce23d17",
   "metadata": {},
   "outputs": [
    {
     "name": "stdout",
     "output_type": "stream",
     "text": [
      "+-------+-------------------+\n",
      "|summary|Yearly Amount Spent|\n",
      "+-------+-------------------+\n",
      "|  count|                500|\n",
      "|   mean|  499.3140382585909|\n",
      "| stddev|   79.3147815497068|\n",
      "|    min| 256.67058229005585|\n",
      "|    25%| 444.96655165329264|\n",
      "|    50%|   498.635598489176|\n",
      "|    75%|  549.1315732872171|\n",
      "|    max|  765.5184619388373|\n",
      "+-------+-------------------+\n",
      "\n"
     ]
    }
   ],
   "source": [
    "df.select('Yearly Amount Spent').summary().show()"
   ]
  },
  {
   "cell_type": "code",
   "execution_count": 27,
   "id": "63f0ac9f",
   "metadata": {},
   "outputs": [
    {
     "data": {
      "text/plain": [
       "7.72498227706742"
      ]
     },
     "execution_count": 27,
     "metadata": {},
     "output_type": "execute_result"
    }
   ],
   "source": [
    "validation_result.meanAbsoluteError"
   ]
  },
  {
   "cell_type": "code",
   "execution_count": 28,
   "id": "0e488b41",
   "metadata": {},
   "outputs": [
    {
     "data": {
      "text/plain": [
       "95.83739968763797"
      ]
     },
     "execution_count": 28,
     "metadata": {},
     "output_type": "execute_result"
    }
   ],
   "source": [
    "validation_result.meanSquaredError"
   ]
  },
  {
   "cell_type": "code",
   "execution_count": 29,
   "id": "4f842134",
   "metadata": {},
   "outputs": [
    {
     "data": {
      "text/plain": [
       "0.987036972135358"
      ]
     },
     "execution_count": 29,
     "metadata": {},
     "output_type": "execute_result"
    }
   ],
   "source": [
    "validation_result.r2"
   ]
  },
  {
   "cell_type": "code",
   "execution_count": 30,
   "id": "3f2fbd03",
   "metadata": {},
   "outputs": [],
   "source": [
    "# R2 value is also good as it saying the model explains the 98.3% of the variances of the data"
   ]
  },
  {
   "cell_type": "markdown",
   "id": "c92e9191",
   "metadata": {},
   "source": [
    "## Thank You\n",
    "#### Happy Learning"
   ]
  }
 ],
 "metadata": {
  "kernelspec": {
   "display_name": "Python 3 (ipykernel)",
   "language": "python",
   "name": "python3"
  },
  "language_info": {
   "codemirror_mode": {
    "name": "ipython",
    "version": 3
   },
   "file_extension": ".py",
   "mimetype": "text/x-python",
   "name": "python",
   "nbconvert_exporter": "python",
   "pygments_lexer": "ipython3",
   "version": "3.9.12"
  }
 },
 "nbformat": 4,
 "nbformat_minor": 5
}
